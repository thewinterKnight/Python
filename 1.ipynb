{
 "cells": [
  {
   "cell_type": "code",
   "execution_count": 1,
   "metadata": {},
   "outputs": [
    {
     "name": "stdout",
     "output_type": "stream",
     "text": [
      "Die! Die! Die!\n"
     ]
    }
   ],
   "source": [
    "print('Die! Die! Die!')"
   ]
  },
  {
   "cell_type": "code",
   "execution_count": 13,
   "metadata": {},
   "outputs": [],
   "source": [
    "import numpy as np\n",
    "import tensorflow as tf"
   ]
  },
  {
   "cell_type": "code",
   "execution_count": 12,
   "metadata": {},
   "outputs": [
    {
     "name": "stdout",
     "output_type": "stream",
     "text": [
      "[[[5 3 4 4]\n",
      "  [2 3 5 3]\n",
      "  [3 2 3 2]]\n",
      "\n",
      " [[2 2 5 3]\n",
      "  [2 5 4 5]\n",
      "  [5 5 4 2]]] \n",
      "\n",
      "Transpose :\n",
      "\n",
      "[[[5 3 4 4]\n",
      "  [2 2 5 3]]\n",
      "\n",
      " [[2 3 5 3]\n",
      "  [2 5 4 5]]\n",
      "\n",
      " [[3 2 3 2]\n",
      "  [5 5 4 2]]]\n"
     ]
    }
   ],
   "source": [
    "a = np.random.randint(2,6,[2,3,4])\n",
    "print(a, '\\n\\nTranspose :\\n')\n",
    "print(a.transpose([1,0,2]))"
   ]
  },
  {
   "cell_type": "code",
   "execution_count": 23,
   "metadata": {},
   "outputs": [],
   "source": [
    "x = tf.Variable([1,2,3,4,5])\n",
    "x_m = tf.math.reduce_mean(x)\n",
    "\n",
    "sess = tf.Session()\n",
    "sess.run(tf.global_variables_initializer())"
   ]
  },
  {
   "cell_type": "code",
   "execution_count": 28,
   "metadata": {},
   "outputs": [
    {
     "data": {
      "text/plain": [
       "array([1, 2, 3, 4, 5], dtype=int32)"
      ]
     },
     "execution_count": 28,
     "metadata": {},
     "output_type": "execute_result"
    }
   ],
   "source": [
    "sess.run(x)"
   ]
  },
  {
   "cell_type": "code",
   "execution_count": 27,
   "metadata": {},
   "outputs": [
    {
     "data": {
      "text/plain": [
       "3"
      ]
     },
     "execution_count": 27,
     "metadata": {},
     "output_type": "execute_result"
    }
   ],
   "source": [
    "sess.run(x_m)"
   ]
  }
 ],
 "metadata": {
  "kernelspec": {
   "display_name": "Python 3",
   "language": "python",
   "name": "python3"
  },
  "language_info": {
   "codemirror_mode": {
    "name": "ipython",
    "version": 3
   },
   "file_extension": ".py",
   "mimetype": "text/x-python",
   "name": "python",
   "nbconvert_exporter": "python",
   "pygments_lexer": "ipython3",
   "version": "3.7.2"
  }
 },
 "nbformat": 4,
 "nbformat_minor": 2
}
