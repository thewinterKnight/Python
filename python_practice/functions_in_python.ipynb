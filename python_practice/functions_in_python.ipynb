{
 "cells": [
  {
   "cell_type": "code",
   "execution_count": 3,
   "metadata": {},
   "outputs": [],
   "source": [
    "def check_dog(str):\n",
    "    print('dog' in str.lower())"
   ]
  },
  {
   "cell_type": "code",
   "execution_count": 6,
   "metadata": {},
   "outputs": [
    {
     "name": "stdout",
     "output_type": "stream",
     "text": [
      "True\n",
      "False\n"
     ]
    }
   ],
   "source": [
    "check_dog('There\\'s a Dog in the street')\n",
    "\n",
    "check_dog('There\\'s smog in the street')"
   ]
  },
  {
   "cell_type": "code",
   "execution_count": 7,
   "metadata": {},
   "outputs": [],
   "source": [
    "def pig_latin(word):\n",
    "    vowels = ['a', 'e', 'i', 'o', 'u']\n",
    "    \n",
    "    if word[0] in vowels:\n",
    "        return word + 'ay'\n",
    "    else:\n",
    "        return word[1:] + word[0] + 'ay'        "
   ]
  },
  {
   "cell_type": "code",
   "execution_count": 9,
   "metadata": {},
   "outputs": [
    {
     "name": "stdout",
     "output_type": "stream",
     "text": [
      "orderay\n",
      "appleay\n"
     ]
    }
   ],
   "source": [
    "pig_latin_word = pig_latin('order')\n",
    "print(pig_latin_word)\n",
    "\n",
    "pig_latin_word = pig_latin('apple')\n",
    "print(pig_latin_word)"
   ]
  },
  {
   "cell_type": "code",
   "execution_count": 16,
   "metadata": {},
   "outputs": [
    {
     "name": "stdout",
     "output_type": "stream",
     "text": [
      "here'sTay\n",
      "aay\n",
      "ogDay\n",
      "inay\n",
      "hetay\n",
      "treet.say\n",
      "tIay\n",
      "isay\n",
      "uspectedsay\n",
      "otay\n",
      "ebay\n",
      "abid.ray\n",
      "taySay\n",
      "awayay\n",
      "romfay\n",
      "it.ay\n"
     ]
    }
   ],
   "source": [
    "sentence = 'There\\'s a Dog in the street. It is suspected to be rabid. Stay away from it.'\n",
    "\n",
    "for item in map(pig_latin, sentence.split(' ')):\n",
    "    print(item)"
   ]
  },
  {
   "cell_type": "code",
   "execution_count": 11,
   "metadata": {},
   "outputs": [
    {
     "data": {
      "text/plain": [
       "[\"here'sTay\", 'aay', 'ogDay', 'inay', 'hetay', 'treetsay']"
      ]
     },
     "execution_count": 11,
     "metadata": {},
     "output_type": "execute_result"
    }
   ],
   "source": [
    "list(map(pig_latin, sentence.split(' ')))"
   ]
  },
  {
   "cell_type": "code",
   "execution_count": 12,
   "metadata": {},
   "outputs": [],
   "source": [
    "def filter_even(word):\n",
    "    return len(word)%2==0"
   ]
  },
  {
   "cell_type": "code",
   "execution_count": 17,
   "metadata": {},
   "outputs": [
    {
     "data": {
      "text/plain": [
       "['in', 'It', 'is', 'to', 'be', 'rabid.', 'Stay', 'away', 'from']"
      ]
     },
     "execution_count": 17,
     "metadata": {},
     "output_type": "execute_result"
    }
   ],
   "source": [
    "list(filter(filter_even, sentence.split(' ')))"
   ]
  },
  {
   "cell_type": "code",
   "execution_count": 18,
   "metadata": {},
   "outputs": [
    {
     "data": {
      "text/plain": [
       "[1, 4, 9, 16, 25]"
      ]
     },
     "execution_count": 18,
     "metadata": {},
     "output_type": "execute_result"
    }
   ],
   "source": [
    "list(map(lambda num : num**2, [1,2,3,4,5]))"
   ]
  },
  {
   "cell_type": "code",
   "execution_count": 20,
   "metadata": {},
   "outputs": [
    {
     "data": {
      "text/plain": [
       "['in', 'It', 'is', 'to', 'be', 'rabid.', 'Stay', 'away', 'from']"
      ]
     },
     "execution_count": 20,
     "metadata": {},
     "output_type": "execute_result"
    }
   ],
   "source": [
    "list(filter(lambda word:len(word)%2==0, sentence.split(' ')))"
   ]
  },
  {
   "cell_type": "code",
   "execution_count": 24,
   "metadata": {},
   "outputs": [
    {
     "data": {
      "text/plain": [
       "['T',\n",
       " 'a',\n",
       " 'D',\n",
       " 'i',\n",
       " 't',\n",
       " 's',\n",
       " 'I',\n",
       " 'i',\n",
       " 's',\n",
       " 't',\n",
       " 'b',\n",
       " 'r',\n",
       " 'S',\n",
       " 'a',\n",
       " 'f',\n",
       " 'i']"
      ]
     },
     "execution_count": 24,
     "metadata": {},
     "output_type": "execute_result"
    }
   ],
   "source": [
    "list(map(lambda word:word[0], sentence.split(' ')))"
   ]
  },
  {
   "cell_type": "code",
   "execution_count": 25,
   "metadata": {},
   "outputs": [
    {
     "data": {
      "text/plain": [
       "'yma'"
      ]
     },
     "execution_count": 25,
     "metadata": {},
     "output_type": "execute_result"
    }
   ],
   "source": [
    "'amy'[::-1]"
   ]
  },
  {
   "cell_type": "code",
   "execution_count": 32,
   "metadata": {},
   "outputs": [
    {
     "data": {
      "text/plain": [
       "\"s'erehT a goD ni eht .teerts tI si detcepsus ot eb .dibar yatS yawa morf .ti\""
      ]
     },
     "execution_count": 32,
     "metadata": {},
     "output_type": "execute_result"
    }
   ],
   "source": [
    "(' ').join(list(map(lambda word:word[::-1], sentence.split(' '))))"
   ]
  },
  {
   "cell_type": "code",
   "execution_count": 45,
   "metadata": {},
   "outputs": [],
   "source": [
    "name = 'What\\'s my name?!'\n",
    "\n",
    "def fetch_name():\n",
    "#     name = 'Max'\n",
    "    \n",
    "    def name_tagger():\n",
    "        print('Name of subject : {}'.format(name))\n",
    "        \n",
    "    name_tagger()"
   ]
  },
  {
   "cell_type": "code",
   "execution_count": 61,
   "metadata": {},
   "outputs": [
    {
     "name": "stderr",
     "output_type": "stream",
     "text": [
      "<>:6: SyntaxWarning: name 'str' is used prior to global declaration\n",
      "<>:6: SyntaxWarning: name 'str' is used prior to global declaration\n",
      "<>:6: SyntaxWarning: name 'str' is used prior to global declaration\n",
      "<ipython-input-61-4e498c7c5ec8>:6: SyntaxWarning: name 'str' is used prior to global declaration\n",
      "  global str\n"
     ]
    }
   ],
   "source": [
    "str = 'Somethin\\' Somethin\\''\n",
    "\n",
    "def fetch_name():    \n",
    "    print('Name of subject : {}'.format(str))\n",
    "   \n",
    "    global str\n",
    "    str = 'Waltz'"
   ]
  },
  {
   "cell_type": "code",
   "execution_count": 62,
   "metadata": {},
   "outputs": [
    {
     "name": "stdout",
     "output_type": "stream",
     "text": [
      "Name of subject : Somethin' Somethin'\n",
      "Waltz\n"
     ]
    }
   ],
   "source": [
    "fetch_name()\n",
    "print(str)"
   ]
  },
  {
   "cell_type": "code",
   "execution_count": null,
   "metadata": {},
   "outputs": [],
   "source": []
  }
 ],
 "metadata": {
  "kernelspec": {
   "display_name": "Python 3",
   "language": "python",
   "name": "python3"
  },
  "language_info": {
   "codemirror_mode": {
    "name": "ipython",
    "version": 3
   },
   "file_extension": ".py",
   "mimetype": "text/x-python",
   "name": "python",
   "nbconvert_exporter": "python",
   "pygments_lexer": "ipython3",
   "version": "3.5.2"
  }
 },
 "nbformat": 4,
 "nbformat_minor": 2
}
