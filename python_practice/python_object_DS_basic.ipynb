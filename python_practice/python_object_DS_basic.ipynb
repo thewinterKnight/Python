{
 "cells": [
  {
   "cell_type": "code",
   "execution_count": null,
   "metadata": {},
   "outputs": [],
   "source": []
  },
  {
   "cell_type": "code",
   "execution_count": null,
   "metadata": {},
   "outputs": [],
   "source": [
    "################# STRINGS ####################"
   ]
  },
  {
   "cell_type": "code",
   "execution_count": 10,
   "metadata": {},
   "outputs": [
    {
     "name": "stdout",
     "output_type": "stream",
     "text": [
      "acegi\n",
      "ihgfedcba\n",
      "igeca\n",
      "h\n",
      "r\n",
      "ink\n"
     ]
    }
   ],
   "source": [
    "str = 'abcdefghi'\n",
    "print(str[::2])\n",
    "print(str[::-1])\n",
    "print(str[::-2])\n",
    "\n",
    "print(str[-2])\n",
    "\n",
    "print('Hello World'[-3])\n",
    "print('tinker'[1:4])"
   ]
  },
  {
   "cell_type": "code",
   "execution_count": 21,
   "metadata": {},
   "outputs": [
    {
     "name": "stdout",
     "output_type": "stream",
     "text": [
      "abcdefghiwhayyyy\n",
      "Whats up you losers  69  , alive?\n",
      "The quick brown fox\n"
     ]
    }
   ],
   "source": [
    "str.upper()\n",
    "# str.lower()\n",
    "\n",
    "print(str + 'whayyyy')\n",
    "\n",
    "print('Whats up {} losers {} {}'.format('you', ' 69 ',', alive?'))\n",
    "\n",
    "print('The {q} {b} {f}'.format(f='fox',q='quick',b='brown'))"
   ]
  },
  {
   "cell_type": "code",
   "execution_count": 24,
   "metadata": {},
   "outputs": [
    {
     "name": "stdout",
     "output_type": "stream",
     "text": [
      "The result is                0.114\n"
     ]
    }
   ],
   "source": [
    "100/877\n",
    "\n",
    "print(\"The result is {r:20.3f}\".format(r=100/877))"
   ]
  },
  {
   "cell_type": "code",
   "execution_count": 28,
   "metadata": {},
   "outputs": [
    {
     "name": "stdout",
     "output_type": "stream",
     "text": [
      "Python rules!\n"
     ]
    }
   ],
   "source": [
    "# name = \"Sam\"\n",
    "# age = 3\n",
    "# print(f'{name} is {age} years old.')     # PYTHON 3.6 feature\n",
    "\n",
    "print('{lang} rules!'.format(lang='Python'))"
   ]
  },
  {
   "cell_type": "code",
   "execution_count": null,
   "metadata": {},
   "outputs": [],
   "source": []
  },
  {
   "cell_type": "code",
   "execution_count": null,
   "metadata": {},
   "outputs": [],
   "source": [
    "###################### LISTS ######################"
   ]
  },
  {
   "cell_type": "code",
   "execution_count": 33,
   "metadata": {},
   "outputs": [
    {
     "data": {
      "text/plain": [
       "'five'"
      ]
     },
     "execution_count": 33,
     "metadata": {},
     "output_type": "execute_result"
    }
   ],
   "source": [
    "sample_list = ['ONE_ALL', 'one', 'two', 'three', 'four', 'five', 'six', 'seven']\n",
    "sample_list[1:]\n",
    "sample_list[::-2]\n",
    "\n",
    "sample_list.pop(-3)"
   ]
  },
  {
   "cell_type": "code",
   "execution_count": 39,
   "metadata": {},
   "outputs": [
    {
     "name": "stdout",
     "output_type": "stream",
     "text": [
      "['a', 'b', 'c', 'e', 'f', 'j', 'n', 'x'] \t <class 'list'>\n",
      "<class 'NoneType'>\n"
     ]
    }
   ],
   "source": [
    "new_list = ['a', 'e', 'x', 'b', 'c', 'f', 'n', 'j']\n",
    "new_list.sort()\n",
    "print(new_list, '\\t', type(new_list))\n",
    "\n",
    "sorted_list = new_list.sort()\n",
    "print(type(sorted_list))"
   ]
  },
  {
   "cell_type": "code",
   "execution_count": 43,
   "metadata": {},
   "outputs": [
    {
     "name": "stdout",
     "output_type": "stream",
     "text": [
      "None\n",
      "[1, 2, 3, 4, 8, 9]\n",
      "[9, 8, 4, 3, 2, 1]\n"
     ]
    }
   ],
   "source": [
    "num_list = [3,8,2,9,4,1]\n",
    "\n",
    "print(num_list.sort())\n",
    "print(num_list)\n",
    "num_list.reverse()\n",
    "print(num_list)"
   ]
  },
  {
   "cell_type": "code",
   "execution_count": 45,
   "metadata": {},
   "outputs": [
    {
     "data": {
      "text/plain": [
       "6"
      ]
     },
     "execution_count": 45,
     "metadata": {},
     "output_type": "execute_result"
    }
   ],
   "source": [
    "sample_list = [1,2,[5,6,7]]\n",
    "sample_list[2][1]"
   ]
  },
  {
   "cell_type": "code",
   "execution_count": null,
   "metadata": {},
   "outputs": [],
   "source": []
  },
  {
   "cell_type": "code",
   "execution_count": null,
   "metadata": {},
   "outputs": [],
   "source": [
    "################## DICTIONARIES #####################"
   ]
  },
  {
   "cell_type": "code",
   "execution_count": 47,
   "metadata": {},
   "outputs": [
    {
     "name": "stdout",
     "output_type": "stream",
     "text": [
      "['cnlgs', 'ps etn']\n"
     ]
    }
   ],
   "source": [
    "dict = {'one' : 1, 'two' : 2, 'sixty-nine' : {'number' : 69, 'joke' : ['cnlgs', 'ps etn']}}\n",
    "\n",
    "print(dict['sixty-nine']['joke'])"
   ]
  },
  {
   "cell_type": "code",
   "execution_count": null,
   "metadata": {},
   "outputs": [],
   "source": []
  },
  {
   "cell_type": "code",
   "execution_count": null,
   "metadata": {},
   "outputs": [],
   "source": [
    "################### TUPLES & SETS ######################"
   ]
  },
  {
   "cell_type": "code",
   "execution_count": 66,
   "metadata": {},
   "outputs": [
    {
     "name": "stdout",
     "output_type": "stream",
     "text": [
      "1\n",
      "4\n",
      "(1, 2, 4, 2, 1, 2, 2)\n",
      "{1, 2, 4}\n",
      "{1, 2, 4, 5}\n",
      "{1, 2, 3, 4, 5, 6, 7}\n"
     ]
    }
   ],
   "source": [
    "tup = (1, 2, 4, 2, 1, 2, 2, [4,5,6])\n",
    "\n",
    "print(tup.index(2))\n",
    "print(tup.count(2))\n",
    "print(tup[:-1])\n",
    "\n",
    "\n",
    "\n",
    "myset = set(tup[:-1])\n",
    "print(myset)\n",
    "\n",
    "myset.add(5)\n",
    "print(myset)\n",
    "\n",
    "sample_list = [1,2,3,1,2,5,4,2,2,4,3,1,1,5,7,6,3,4,7]\n",
    "print(set(sample_list))"
   ]
  },
  {
   "cell_type": "code",
   "execution_count": 84,
   "metadata": {},
   "outputs": [
    {
     "name": "stdout",
     "output_type": "stream",
     "text": [
      "['Mississippi']\n",
      "{'p', 'i', 's', 'M'}\n",
      "['M', 'i', 'p', 's']\n",
      "['i', 'i', 'i', 'i', 'm', 'p', 'p', 's', 's', 's', 's']\n",
      "{'m', 'p', 'i', 's'}\n"
     ]
    }
   ],
   "source": [
    "print('Mississippi'.split())\n",
    "\n",
    "print(set(list('Mississippi')))\n",
    "print(sorted(set(list('Mississippi'))))\n",
    "\n",
    "sample = list('Mississippi'.lower())\n",
    "sample.sort()\n",
    "print(sample)\n",
    "print(set(sample))"
   ]
  },
  {
   "cell_type": "code",
   "execution_count": 86,
   "metadata": {},
   "outputs": [
    {
     "data": {
      "text/plain": [
       "{'M', 'i', 'p', 's'}"
      ]
     },
     "execution_count": 86,
     "metadata": {},
     "output_type": "execute_result"
    }
   ],
   "source": [
    "set(sorted(list('Mississippi')))"
   ]
  },
  {
   "cell_type": "code",
   "execution_count": null,
   "metadata": {},
   "outputs": [],
   "source": []
  },
  {
   "cell_type": "code",
   "execution_count": null,
   "metadata": {},
   "outputs": [],
   "source": [
    "################### File I/O Ops #######################"
   ]
  },
  {
   "cell_type": "code",
   "execution_count": 87,
   "metadata": {},
   "outputs": [
    {
     "name": "stdout",
     "output_type": "stream",
     "text": [
      "Writing myfile.txt\n"
     ]
    }
   ],
   "source": [
    "%%writefile myfile.txt\n",
    "Hello this is a text file\n",
    "this is the second line\n",
    "this is the third line"
   ]
  },
  {
   "cell_type": "code",
   "execution_count": 88,
   "metadata": {},
   "outputs": [
    {
     "data": {
      "text/plain": [
       "'Hello this is a text file\\nthis is the second line\\nthis is the third line\\n'"
      ]
     },
     "execution_count": 88,
     "metadata": {},
     "output_type": "execute_result"
    }
   ],
   "source": [
    "myfile = open('myfile.txt')\n",
    "myfile.read()\n"
   ]
  },
  {
   "cell_type": "code",
   "execution_count": 89,
   "metadata": {},
   "outputs": [
    {
     "data": {
      "text/plain": [
       "''"
      ]
     },
     "execution_count": 89,
     "metadata": {},
     "output_type": "execute_result"
    }
   ],
   "source": [
    "myfile.read()"
   ]
  },
  {
   "cell_type": "code",
   "execution_count": 90,
   "metadata": {},
   "outputs": [
    {
     "data": {
      "text/plain": [
       "0"
      ]
     },
     "execution_count": 90,
     "metadata": {},
     "output_type": "execute_result"
    }
   ],
   "source": [
    "myfile.seek(0)"
   ]
  },
  {
   "cell_type": "code",
   "execution_count": 91,
   "metadata": {},
   "outputs": [
    {
     "data": {
      "text/plain": [
       "'Hello this is a text file\\nthis is the second line\\nthis is the third line\\n'"
      ]
     },
     "execution_count": 91,
     "metadata": {},
     "output_type": "execute_result"
    }
   ],
   "source": [
    "myfile.read()"
   ]
  },
  {
   "cell_type": "code",
   "execution_count": 98,
   "metadata": {},
   "outputs": [
    {
     "data": {
      "text/plain": [
       "['Hello this is a text file\\n',\n",
       " 'this is the second line\\n',\n",
       " 'this is the third line\\n']"
      ]
     },
     "execution_count": 98,
     "metadata": {},
     "output_type": "execute_result"
    }
   ],
   "source": [
    "myfile.seek(0)\n",
    "myfile.readlines()"
   ]
  },
  {
   "cell_type": "code",
   "execution_count": 99,
   "metadata": {},
   "outputs": [
    {
     "data": {
      "text/plain": [
       "'/home/sunising/Downloads/misc/my_codes/python_practice'"
      ]
     },
     "execution_count": 99,
     "metadata": {},
     "output_type": "execute_result"
    }
   ],
   "source": [
    "pwd"
   ]
  }
 ],
 "metadata": {
  "kernelspec": {
   "display_name": "Python 3",
   "language": "python",
   "name": "python3"
  },
  "language_info": {
   "codemirror_mode": {
    "name": "ipython",
    "version": 3
   },
   "file_extension": ".py",
   "mimetype": "text/x-python",
   "name": "python",
   "nbconvert_exporter": "python",
   "pygments_lexer": "ipython3",
   "version": "3.5.2"
  }
 },
 "nbformat": 4,
 "nbformat_minor": 2
}
