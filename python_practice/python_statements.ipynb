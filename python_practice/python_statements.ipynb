{
 "cells": [
  {
   "cell_type": "code",
   "execution_count": null,
   "metadata": {},
   "outputs": [],
   "source": []
  },
  {
   "cell_type": "code",
   "execution_count": null,
   "metadata": {},
   "outputs": [],
   "source": [
    "###################### FOR LOOPS #########################"
   ]
  },
  {
   "cell_type": "code",
   "execution_count": 1,
   "metadata": {},
   "outputs": [
    {
     "name": "stdout",
     "output_type": "stream",
     "text": [
      "H\n",
      "e\n",
      "l\n",
      "l\n",
      "o\n",
      " \n",
      "W\n",
      "o\n",
      "r\n",
      "l\n",
      "d\n"
     ]
    }
   ],
   "source": [
    "str = 'Hello World'\n",
    "\n",
    "for letter in str:\n",
    "    print(letter)"
   ]
  },
  {
   "cell_type": "code",
   "execution_count": 2,
   "metadata": {},
   "outputs": [
    {
     "name": "stdout",
     "output_type": "stream",
     "text": [
      "1\n",
      "6\n",
      "3\n",
      "8\n",
      "3\n",
      "7\n",
      "2\n",
      "3\n",
      "9\n",
      "0\n"
     ]
    }
   ],
   "source": [
    "tup = (1,6,3,8,3,7,2,3,9,0)\n",
    "\n",
    "for num in tup:\n",
    "    print(num)"
   ]
  },
  {
   "cell_type": "code",
   "execution_count": 4,
   "metadata": {},
   "outputs": [
    {
     "name": "stdout",
     "output_type": "stream",
     "text": [
      "1\n",
      "2\n",
      "3\n",
      "4\n",
      "5\n",
      "6\n",
      "7\n",
      "8\n"
     ]
    }
   ],
   "source": [
    "mylist = [(1,2),(3,4),(5,6),(7,8)]\n",
    "\n",
    "# for (a,b) in mylist:\n",
    "for a,b in mylist:\n",
    "    print(a)\n",
    "    print(b)"
   ]
  },
  {
   "cell_type": "code",
   "execution_count": 5,
   "metadata": {},
   "outputs": [
    {
     "name": "stdout",
     "output_type": "stream",
     "text": [
      "k2 \t 2\n",
      "k1 \t 1\n",
      "k3 \t 3\n"
     ]
    }
   ],
   "source": [
    "d = {'k1':1, 'k2':2, 'k3':3}\n",
    "\n",
    "for key, value in d.items():\n",
    "    print(key, '\\t', value)"
   ]
  },
  {
   "cell_type": "code",
   "execution_count": null,
   "metadata": {},
   "outputs": [],
   "source": []
  },
  {
   "cell_type": "code",
   "execution_count": null,
   "metadata": {},
   "outputs": [],
   "source": [
    "################## WHILE LOOPS #####################"
   ]
  },
  {
   "cell_type": "code",
   "execution_count": 9,
   "metadata": {},
   "outputs": [
    {
     "name": "stdout",
     "output_type": "stream",
     "text": [
      "5 pow 0 is 1\n",
      "5 pow 1 is 5\n",
      "5 pow 2 is 25\n",
      "5 pow 3 is 125\n",
      "5 pow 4 is 625\n",
      "x is greate than 5 !!\n"
     ]
    }
   ],
   "source": [
    "x = 0\n",
    "\n",
    "while x < 5:\n",
    "    print('5 pow {exponent} is {output}'.format(exponent=x, output=5**x))\n",
    "    x+=1\n",
    "else:\n",
    "    print('x is greate than 5 !!')"
   ]
  },
  {
   "cell_type": "code",
   "execution_count": null,
   "metadata": {},
   "outputs": [],
   "source": []
  },
  {
   "cell_type": "code",
   "execution_count": null,
   "metadata": {},
   "outputs": [],
   "source": [
    "######################## BREAK, CONTINU, PASS ###########################"
   ]
  },
  {
   "cell_type": "code",
   "execution_count": 15,
   "metadata": {},
   "outputs": [
    {
     "name": "stdout",
     "output_type": "stream",
     "text": [
      "End of Script\n",
      "S\n",
      "a\n",
      "y\n",
      " \n",
      "i\n",
      "s\n",
      " \n",
      "a\n",
      " \n",
      "a\n",
      "n\n",
      "i\n",
      "c\n",
      " \n",
      "t\n",
      "e\n",
      "e\n",
      "t\n"
     ]
    }
   ],
   "source": [
    "x = [1,2,3]\n",
    "\n",
    "for item in x:\n",
    "    # comment\n",
    "    pass\n",
    "\n",
    "print('End of Script')\n",
    "\n",
    "str = 'Sammy is a manic teetotaler'\n",
    "\n",
    "for letter in str:\n",
    "    if letter == 'm':\n",
    "        continue\n",
    "    if letter == 'o':\n",
    "        break\n",
    "    print(letter)"
   ]
  },
  {
   "cell_type": "code",
   "execution_count": null,
   "metadata": {},
   "outputs": [],
   "source": []
  },
  {
   "cell_type": "code",
   "execution_count": null,
   "metadata": {},
   "outputs": [],
   "source": [
    "######################## USEFUL FXNS. #########################"
   ]
  },
  {
   "cell_type": "code",
   "execution_count": 16,
   "metadata": {},
   "outputs": [
    {
     "name": "stdout",
     "output_type": "stream",
     "text": [
      "0\n",
      "3\n",
      "6\n",
      "9\n"
     ]
    }
   ],
   "source": [
    "for num in range(0,12,3):\n",
    "    print(num)"
   ]
  },
  {
   "cell_type": "code",
   "execution_count": 17,
   "metadata": {},
   "outputs": [
    {
     "data": {
      "text/plain": [
       "[0, 4, 8, 12, 16, 20]"
      ]
     },
     "execution_count": 17,
     "metadata": {},
     "output_type": "execute_result"
    }
   ],
   "source": [
    "list(range(0,21,4))"
   ]
  },
  {
   "cell_type": "code",
   "execution_count": 18,
   "metadata": {},
   "outputs": [
    {
     "name": "stdout",
     "output_type": "stream",
     "text": [
      "letter at index 0 : S\n",
      "letter at index 1 : a\n",
      "letter at index 2 : m\n",
      "letter at index 3 : m\n",
      "letter at index 4 : y\n",
      "letter at index 6 : i\n",
      "letter at index 7 : s\n",
      "letter at index 9 : a\n",
      "letter at index 11 : m\n",
      "letter at index 12 : a\n",
      "letter at index 13 : n\n",
      "letter at index 14 : i\n",
      "letter at index 15 : c\n",
      "letter at index 17 : t\n",
      "letter at index 18 : e\n",
      "letter at index 19 : e\n",
      "letter at index 20 : t\n",
      "letter at index 21 : o\n",
      "letter at index 22 : t\n",
      "letter at index 23 : a\n",
      "letter at index 24 : l\n",
      "letter at index 25 : e\n",
      "letter at index 26 : r\n"
     ]
    }
   ],
   "source": [
    "# for item in enumerate('Sammy is a manic teetotaler'):\n",
    "    ## item is a tuple : (indx, lttr)\n",
    "\n",
    "for indx, lttr in enumerate('Sammy is a manic teetotaler'):\n",
    "    if lttr == ' ':\n",
    "        continue\n",
    "    print('letter at index {} : {}'.format(indx, lttr))\n",
    "    "
   ]
  },
  {
   "cell_type": "code",
   "execution_count": 23,
   "metadata": {},
   "outputs": [
    {
     "name": "stdout",
     "output_type": "stream",
     "text": [
      "<zip object at 0x7f74dc242dc8>\n",
      "[(1, 'a'), (2, 'b'), (3, 'c')]\n",
      "(1, 'a')\n",
      "(2, 'b')\n",
      "(3, 'c')\n"
     ]
    }
   ],
   "source": [
    "l1 = [1,2,3]\n",
    "l2 = ['a','b','c']\n",
    "\n",
    "print(zip(l1,l2))\n",
    "print(list(zip(l1,l2)))\n",
    "\n",
    "for item in zip(l1,l2):\n",
    "    print(item)"
   ]
  },
  {
   "cell_type": "code",
   "execution_count": 26,
   "metadata": {},
   "outputs": [
    {
     "name": "stdout",
     "output_type": "stream",
     "text": [
      "True\n",
      "False\n"
     ]
    }
   ],
   "source": [
    "d = {'mykey' : 345}\n",
    "\n",
    "print(345 in d.values())\n",
    "print(345 in d.items())"
   ]
  },
  {
   "cell_type": "code",
   "execution_count": 39,
   "metadata": {},
   "outputs": [
    {
     "name": "stdout",
     "output_type": "stream",
     "text": [
      "[1, 8, 2, 4, 7, 9, 5, 6, 3]\n",
      "None\n"
     ]
    }
   ],
   "source": [
    "from random import shuffle, randint\n",
    "\n",
    "l = [1,2,3,4,5,6,7,8,9]\n",
    "random_list = shuffle(l)\n",
    "\n",
    "print(l)\n",
    "print(random_list)"
   ]
  },
  {
   "cell_type": "code",
   "execution_count": 42,
   "metadata": {},
   "outputs": [
    {
     "data": {
      "text/plain": [
       "5"
      ]
     },
     "execution_count": 42,
     "metadata": {},
     "output_type": "execute_result"
    }
   ],
   "source": [
    "randint(0,10)"
   ]
  },
  {
   "cell_type": "code",
   "execution_count": 43,
   "metadata": {},
   "outputs": [
    {
     "name": "stdout",
     "output_type": "stream",
     "text": [
      "Enter your name.Suneet\n"
     ]
    }
   ],
   "source": [
    "name = input('Enter your name.')"
   ]
  },
  {
   "cell_type": "code",
   "execution_count": 45,
   "metadata": {},
   "outputs": [
    {
     "data": {
      "text/plain": [
       "'Suneet'"
      ]
     },
     "execution_count": 45,
     "metadata": {},
     "output_type": "execute_result"
    }
   ],
   "source": [
    "name"
   ]
  },
  {
   "cell_type": "code",
   "execution_count": 46,
   "metadata": {},
   "outputs": [
    {
     "name": "stdout",
     "output_type": "stream",
     "text": [
      "Enter a number69\n"
     ]
    }
   ],
   "source": [
    "num = input('Enter a number')"
   ]
  },
  {
   "cell_type": "code",
   "execution_count": 47,
   "metadata": {},
   "outputs": [
    {
     "data": {
      "text/plain": [
       "'69'"
      ]
     },
     "execution_count": 47,
     "metadata": {},
     "output_type": "execute_result"
    }
   ],
   "source": [
    "num"
   ]
  },
  {
   "cell_type": "code",
   "execution_count": 50,
   "metadata": {},
   "outputs": [
    {
     "name": "stdout",
     "output_type": "stream",
     "text": [
      "69 69.0\n",
      "Enter a number6969\n"
     ]
    }
   ],
   "source": [
    "print(int(num), float(num))\n",
    "\n",
    "num = float(input('Enter a number'))"
   ]
  },
  {
   "cell_type": "code",
   "execution_count": 51,
   "metadata": {},
   "outputs": [
    {
     "data": {
      "text/plain": [
       "6969.0"
      ]
     },
     "execution_count": 51,
     "metadata": {},
     "output_type": "execute_result"
    }
   ],
   "source": [
    "num"
   ]
  },
  {
   "cell_type": "code",
   "execution_count": null,
   "metadata": {},
   "outputs": [],
   "source": []
  },
  {
   "cell_type": "code",
   "execution_count": null,
   "metadata": {},
   "outputs": [],
   "source": [
    "################## LIST COMPREHENSIONS #####################"
   ]
  },
  {
   "cell_type": "code",
   "execution_count": 53,
   "metadata": {},
   "outputs": [
    {
     "name": "stdout",
     "output_type": "stream",
     "text": [
      "['T', 'h', 'a', 't', \"'\", 's', ' ', 'A', 'l', 'l', ' ', 'F', 'o', 'l', 'k', 's', '!', '!', '!']\n"
     ]
    }
   ],
   "source": [
    "mystring = 'That\\'s All Folks!!!'\n",
    "\n",
    "mylist = [letter for letter in mystring]\n",
    "print(mylist)"
   ]
  },
  {
   "cell_type": "code",
   "execution_count": 55,
   "metadata": {},
   "outputs": [
    {
     "name": "stdout",
     "output_type": "stream",
     "text": [
      "[0, 9, 36, 81, 144, 225, 324, 441, 576, 729, 900]\n"
     ]
    }
   ],
   "source": [
    "range_list = [x**2 for  x in range(0,31,3)]\n",
    "\n",
    "print(range_list)"
   ]
  },
  {
   "cell_type": "code",
   "execution_count": 61,
   "metadata": {},
   "outputs": [
    {
     "name": "stdout",
     "output_type": "stream",
     "text": [
      "[0, 36, 144, 324, 576, 900]\n"
     ]
    }
   ],
   "source": [
    "conditioned_list = [x**2 for  x in range(0,31,3) if x%2==0]\n",
    "\n",
    "print(conditioned_list)"
   ]
  },
  {
   "cell_type": "code",
   "execution_count": 59,
   "metadata": {},
   "outputs": [
    {
     "name": "stdout",
     "output_type": "stream",
     "text": [
      "[32.0, 50.0, 68.0, 86.0, 94.1]\n"
     ]
    }
   ],
   "source": [
    "celsius = [0,10,20,30,34.5]\n",
    "\n",
    "farenheit = [((9/5)*temp + 32) for temp in celsius]\n",
    "\n",
    "print(farenheit)"
   ]
  },
  {
   "cell_type": "code",
   "execution_count": 66,
   "metadata": {},
   "outputs": [
    {
     "name": "stdout",
     "output_type": "stream",
     "text": [
      "[0, 'ODD', 2, 'ODD', 4, 'ODD', 6, 'ODD', 8, 'ODD', 10, 'ODD', 12, 'ODD', 14, 'ODD', 16, 'ODD', 18, 'ODD', 20, 'ODD', 22, 'ODD', 24, 'ODD', 26, 'ODD', 28, 'ODD', 30]\n"
     ]
    }
   ],
   "source": [
    "conditioned_list = [x if x%2==0 else 'ODD' for  x in range(0,31)]\n",
    "\n",
    "print(conditioned_list)"
   ]
  },
  {
   "cell_type": "code",
   "execution_count": 68,
   "metadata": {},
   "outputs": [
    {
     "name": "stdout",
     "output_type": "stream",
     "text": [
      "[100, 125, 150, 200, 250, 300, 300, 375, 450]\n"
     ]
    }
   ],
   "source": [
    "nested_loop_list = [x*y for x in [5,10,15] for y in [20, 25, 30]]\n",
    "\n",
    "print(nested_loop_list)"
   ]
  },
  {
   "cell_type": "code",
   "execution_count": 70,
   "metadata": {},
   "outputs": [
    {
     "name": "stdout",
     "output_type": "stream",
     "text": [
      "[1, 7, 2, 3, 5, 6, 7]\n"
     ]
    }
   ],
   "source": [
    "l = [1,2,3]\n",
    "\n",
    "l.insert(1,7)\n",
    "\n",
    "l.extend([5,6,7])\n",
    "\n",
    "print(l)"
   ]
  }
 ],
 "metadata": {
  "kernelspec": {
   "display_name": "Python 3",
   "language": "python",
   "name": "python3"
  },
  "language_info": {
   "codemirror_mode": {
    "name": "ipython",
    "version": 3
   },
   "file_extension": ".py",
   "mimetype": "text/x-python",
   "name": "python",
   "nbconvert_exporter": "python",
   "pygments_lexer": "ipython3",
   "version": "3.5.2"
  }
 },
 "nbformat": 4,
 "nbformat_minor": 2
}
