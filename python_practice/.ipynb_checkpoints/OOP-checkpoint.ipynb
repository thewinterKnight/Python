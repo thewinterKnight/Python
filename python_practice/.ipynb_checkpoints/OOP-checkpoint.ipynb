{
 "cells": [
  {
   "cell_type": "code",
   "execution_count": 88,
   "metadata": {},
   "outputs": [],
   "source": [
    "class Cat():\n",
    "    \n",
    "    species = 'mammal'    \n",
    "    \n",
    "    def __init__(self, breed, name, spots, species=Cat.species):\n",
    "        self.breed = breed\n",
    "        self.name = name\n",
    "        self.spots = spots\n",
    "        self.species = species\n",
    "        self.spotless = not spots\n",
    "        \n",
    "    def purr(self, owner_name):\n",
    "        print(\"Purrrrrrr..Purrrrrr ! Feed me hooman {}!! {} is hungry\".format(owner_name, self.name))"
   ]
  },
  {
   "cell_type": "code",
   "execution_count": 92,
   "metadata": {},
   "outputs": [],
   "source": [
    "# my_cat = Cat('Munchkin', 'Mala', True)\n",
    "my_cat = Cat('Munchkin', 'Mala', False, species='alien')"
   ]
  },
  {
   "cell_type": "code",
   "execution_count": 93,
   "metadata": {},
   "outputs": [
    {
     "data": {
      "text/plain": [
       "__main__.Cat"
      ]
     },
     "execution_count": 93,
     "metadata": {},
     "output_type": "execute_result"
    }
   ],
   "source": [
    "type(my_cat)"
   ]
  },
  {
   "cell_type": "code",
   "execution_count": 94,
   "metadata": {},
   "outputs": [
    {
     "name": "stdout",
     "output_type": "stream",
     "text": [
      "Munchkin Mala False alien\n",
      "Spotless : True\n"
     ]
    }
   ],
   "source": [
    "print(my_cat.breed, my_cat.name, my_cat.spots, my_cat.species)\n",
    "print('Spotless : {}'.format(my_cat.spotless))"
   ]
  },
  {
   "cell_type": "code",
   "execution_count": 95,
   "metadata": {},
   "outputs": [
    {
     "name": "stdout",
     "output_type": "stream",
     "text": [
      "Purrrrrrr..Purrrrrr ! Feed me hooman Suneet!! Mala is hungry\n"
     ]
    }
   ],
   "source": [
    "my_cat.purr(owner_name='Suneet')"
   ]
  },
  {
   "cell_type": "code",
   "execution_count": null,
   "metadata": {},
   "outputs": [],
   "source": []
  },
  {
   "cell_type": "code",
   "execution_count": 113,
   "metadata": {},
   "outputs": [],
   "source": [
    "class Animal():\n",
    "    species = 'mammals'\n",
    "    domestic = False       \n",
    "        \n",
    "    def speak(self):\n",
    "        raise NotImplementedError('Subclass must implememnt this method.')"
   ]
  },
  {
   "cell_type": "code",
   "execution_count": 136,
   "metadata": {},
   "outputs": [],
   "source": [
    "class Dog(Animal):\n",
    "    owner=None\n",
    "    \n",
    "    def __init__(self, name, age, domestic, owner=Dog.owner):\n",
    "        Animal.__init__(age, domestic)\n",
    "        self.age = age\n",
    "        Animal.domestic = domestic\n",
    "        self.name = name\n",
    "        Dog.owner = owner\n",
    "        \n",
    "    def speak(self):\n",
    "        if self.age > 2 and self.domestic:\n",
    "            print('BARK!! {}'.format(self.owner))\n",
    "        elif self.age <= 2:\n",
    "            print('I\\'m only %d. Pups dont bark!'%self.age)\n",
    "        elif self.domestic==False:\n",
    "            print('I\\'m a Wild Hound. And you\\'re dead!!')\n",
    "            \n",
    "class Cat(Animal):\n",
    "    owner=None\n",
    "    \n",
    "    def __init__(self, name, age, domestic, owner=Dog.owner):\n",
    "        Animal.__init__(age, domestic)\n",
    "        self.age = age\n",
    "        Animal.domestic = domestic\n",
    "        self.name = name\n",
    "        Cat.owner = owner\n",
    "        \n",
    "    def speak(self):\n",
    "        if self.age > 2 and self.domestic:\n",
    "            print('PURRR!! {}'.format(self.owner))\n",
    "        elif self.age <= 2:\n",
    "            print('I\\'m only %d. Meoowww!'%self.age)\n",
    "        elif self.domestic==False:\n",
    "            print('I\\'m a Feral Cat. And you\\'re dead!!')            "
   ]
  },
  {
   "cell_type": "code",
   "execution_count": 142,
   "metadata": {},
   "outputs": [],
   "source": [
    "mydog = Dog('Cesar', age=4, domestic=False)\n",
    "\n",
    "mycat = Dog('Mala', age=1, domestic=True, owner='Suneet')"
   ]
  },
  {
   "cell_type": "code",
   "execution_count": 140,
   "metadata": {},
   "outputs": [
    {
     "name": "stdout",
     "output_type": "stream",
     "text": [
      "BARK!! Suneet\n"
     ]
    }
   ],
   "source": [
    "mydog.speak()"
   ]
  },
  {
   "cell_type": "code",
   "execution_count": null,
   "metadata": {},
   "outputs": [],
   "source": []
  }
 ],
 "metadata": {
  "kernelspec": {
   "display_name": "Python 3",
   "language": "python",
   "name": "python3"
  },
  "language_info": {
   "codemirror_mode": {
    "name": "ipython",
    "version": 3
   },
   "file_extension": ".py",
   "mimetype": "text/x-python",
   "name": "python",
   "nbconvert_exporter": "python",
   "pygments_lexer": "ipython3",
   "version": "3.5.2"
  }
 },
 "nbformat": 4,
 "nbformat_minor": 2
}
