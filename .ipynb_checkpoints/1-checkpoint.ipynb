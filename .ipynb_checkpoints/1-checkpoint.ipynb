{
 "cells": [
  {
   "cell_type": "code",
   "execution_count": 1,
   "metadata": {},
   "outputs": [
    {
     "name": "stdout",
     "output_type": "stream",
     "text": [
      "Die! Die! Die!\n"
     ]
    }
   ],
   "source": [
    "print('Die! Die! Die!')"
   ]
  },
  {
   "cell_type": "code",
   "execution_count": 3,
   "metadata": {},
   "outputs": [],
   "source": [
    "import numpy as np"
   ]
  },
  {
   "cell_type": "code",
   "execution_count": 12,
   "metadata": {},
   "outputs": [
    {
     "name": "stdout",
     "output_type": "stream",
     "text": [
      "[[[5 3 4 4]\n",
      "  [2 3 5 3]\n",
      "  [3 2 3 2]]\n",
      "\n",
      " [[2 2 5 3]\n",
      "  [2 5 4 5]\n",
      "  [5 5 4 2]]] \n",
      "\n",
      "Transpose :\n",
      "\n",
      "[[[5 3 4 4]\n",
      "  [2 2 5 3]]\n",
      "\n",
      " [[2 3 5 3]\n",
      "  [2 5 4 5]]\n",
      "\n",
      " [[3 2 3 2]\n",
      "  [5 5 4 2]]]\n"
     ]
    }
   ],
   "source": [
    "a = np.random.randint(2,6,[2,3,4])\n",
    "print(a, '\\n\\nTranspose :\\n')\n",
    "print(a.transpose([1,0,2]))"
   ]
  }
 ],
 "metadata": {
  "kernelspec": {
   "display_name": "Python 3",
   "language": "python",
   "name": "python3"
  },
  "language_info": {
   "codemirror_mode": {
    "name": "ipython",
    "version": 3
   },
   "file_extension": ".py",
   "mimetype": "text/x-python",
   "name": "python",
   "nbconvert_exporter": "python",
   "pygments_lexer": "ipython3",
   "version": "3.7.2"
  }
 },
 "nbformat": 4,
 "nbformat_minor": 2
}
